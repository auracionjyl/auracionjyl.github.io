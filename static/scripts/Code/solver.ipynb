{
 "cells": [
  {
   "cell_type": "code",
   "execution_count": 523,
   "metadata": {},
   "outputs": [],
   "source": [
    "using Pkg\n",
    "# Pkg.add(\"LightGraphs\")\n",
    "# Pkg.add(\"GraphPlot\")\n",
    "# Pkg.add(\"Colors\")\n",
    "# Pkg.add(\"IterTools\")\n",
    "# Pkg.add(\"Images\")\n",
    "# Pkg.add(\"Plots\")\n",
    "using Graphs\n",
    "using GraphPlot\n",
    "using Colors\n",
    "using IterTools\n",
    "using Plots\n",
    "using Images"
   ]
  },
  {
   "cell_type": "code",
   "execution_count": null,
   "metadata": {},
   "outputs": [],
   "source": [
    "function visualize(adj_matrix)\n",
    "    g = SimpleGraph(adj_matrix)\n",
    "    set1 = 1:3\n",
    "    set2 = 4:6\n",
    "    node_colors = vcat([colorant\"red\" for _ in set1], [colorant\"blue\" for _ in set2])\n",
    "    gplot(g, layout=spring_layout, nodelabel=1:nv(g), nodefillc=node_colors) \n",
    "end\n",
    "\n"
   ]
  },
  {
   "cell_type": "code",
   "execution_count": 492,
   "metadata": {},
   "outputs": [
    {
     "data": {
      "image/svg+xml": "<?xml version=\"1.0\" encoding=\"utf-8\"?>\n<svg xmlns=\"http://www.w3.org/2000/svg\" xmlns:xlink=\"http://www.w3.org/1999/xlink\" width=\"600\" height=\"400\" viewBox=\"0 0 2400 1600\">\n<defs>\n  <clipPath id=\"clip290\">\n    <rect x=\"0\" y=\"0\" width=\"2400\" height=\"1600\"/>\n  </clipPath>\n</defs>\n<path clip-path=\"url(#clip290)\" d=\"M0 1600 L2400 1600 L2400 0 L0 0  Z\" fill=\"#ffffff\" fill-rule=\"evenodd\" fill-opacity=\"1\"/>\n<defs>\n  <clipPath id=\"clip291\">\n    <rect x=\"480\" y=\"0\" width=\"1681\" height=\"1600\"/>\n  </clipPath>\n</defs>\n<path clip-path=\"url(#clip290)\" d=\"M112.177 1486.45 L2352.76 1486.45 L2352.76 47.2441 L112.177 47.2441  Z\" fill=\"#ffffff\" fill-rule=\"evenodd\" fill-opacity=\"1\"/>\n<defs>\n  <clipPath id=\"clip292\">\n    <rect x=\"112\" y=\"47\" width=\"2242\" height=\"1440\"/>\n  </clipPath>\n</defs>\n<g clip-path=\"url(#clip292)\">\n<image width=\"2114\" height=\"939\" xlink:href=\"data:image/png;base64,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\nTkSuQmCC\n\" transform=\"translate(176, 297)\"/>\n</g>\n<polyline clip-path=\"url(#clip292)\" style=\"stroke:#000000; stroke-linecap:round; stroke-linejoin:round; stroke-width:8; stroke-opacity:1; fill:none\" points=\"175.59,297.123 175.59,1236.57 \"/>\n<polyline clip-path=\"url(#clip292)\" style=\"stroke:#000000; stroke-linecap:round; stroke-linejoin:round; stroke-width:8; stroke-opacity:1; fill:none\" points=\"410.451,297.123 410.451,1236.57 \"/>\n<polyline clip-path=\"url(#clip292)\" style=\"stroke:#000000; stroke-linecap:round; stroke-linejoin:round; stroke-width:8; stroke-opacity:1; fill:none\" points=\"645.313,297.123 645.313,1236.57 \"/>\n<polyline clip-path=\"url(#clip292)\" style=\"stroke:#000000; stroke-linecap:round; stroke-linejoin:round; stroke-width:8; stroke-opacity:1; fill:none\" points=\"880.174,297.123 880.174,1236.57 \"/>\n<polyline clip-path=\"url(#clip292)\" style=\"stroke:#000000; stroke-linecap:round; stroke-linejoin:round; stroke-width:8; stroke-opacity:1; fill:none\" points=\"1115.04,297.123 1115.04,1236.57 \"/>\n<polyline clip-path=\"url(#clip292)\" style=\"stroke:#000000; stroke-linecap:round; stroke-linejoin:round; stroke-width:8; stroke-opacity:1; fill:none\" points=\"1349.9,297.123 1349.9,1236.57 \"/>\n<polyline clip-path=\"url(#clip292)\" style=\"stroke:#000000; stroke-linecap:round; stroke-linejoin:round; stroke-width:8; stroke-opacity:1; fill:none\" points=\"1584.76,297.123 1584.76,1236.57 \"/>\n<polyline clip-path=\"url(#clip292)\" style=\"stroke:#000000; stroke-linecap:round; stroke-linejoin:round; stroke-width:8; stroke-opacity:1; fill:none\" points=\"1819.62,297.123 1819.62,1236.57 \"/>\n<polyline clip-path=\"url(#clip292)\" style=\"stroke:#000000; stroke-linecap:round; stroke-linejoin:round; stroke-width:8; stroke-opacity:1; fill:none\" points=\"2054.48,297.123 2054.48,1236.57 \"/>\n<polyline clip-path=\"url(#clip292)\" style=\"stroke:#000000; stroke-linecap:round; stroke-linejoin:round; stroke-width:8; stroke-opacity:1; fill:none\" points=\"175.59,297.123 2289.34,297.123 \"/>\n<polyline clip-path=\"url(#clip292)\" style=\"stroke:#000000; stroke-linecap:round; stroke-linejoin:round; stroke-width:8; stroke-opacity:1; fill:none\" points=\"175.59,531.984 2289.34,531.984 \"/>\n<polyline clip-path=\"url(#clip292)\" style=\"stroke:#000000; stroke-linecap:round; stroke-linejoin:round; stroke-width:8; stroke-opacity:1; fill:none\" points=\"175.59,766.846 2289.34,766.846 \"/>\n<polyline clip-path=\"url(#clip292)\" style=\"stroke:#000000; stroke-linecap:round; stroke-linejoin:round; stroke-width:8; stroke-opacity:1; fill:none\" points=\"175.59,1001.71 2289.34,1001.71 \"/>\n<polyline clip-path=\"url(#clip292)\" style=\"stroke:#000000; stroke-linecap:round; stroke-linejoin:round; stroke-width:8; stroke-opacity:1; fill:none\" points=\"175.59,1236.57 2289.34,1236.57 \"/>\n<polyline clip-path=\"url(#clip292)\" style=\"stroke:#000000; stroke-linecap:round; stroke-linejoin:round; stroke-width:8; stroke-opacity:1; fill:none\" points=\"2289.34,297.123 2289.34,1236.57 \"/>\n<circle clip-path=\"url(#clip292)\" cx=\"997.605\" cy=\"414.554\" r=\"72\" fill=\"#000000\" fill-rule=\"evenodd\" fill-opacity=\"1\" stroke=\"none\"/>\n<circle clip-path=\"url(#clip292)\" cx=\"1232.47\" cy=\"649.415\" r=\"72\" fill=\"#000000\" fill-rule=\"evenodd\" fill-opacity=\"1\" stroke=\"none\"/>\n<circle clip-path=\"url(#clip292)\" cx=\"1702.19\" cy=\"649.415\" r=\"72\" fill=\"#000000\" fill-rule=\"evenodd\" fill-opacity=\"1\" stroke=\"none\"/>\n<circle clip-path=\"url(#clip292)\" cx=\"2171.91\" cy=\"649.415\" r=\"72\" fill=\"#000000\" fill-rule=\"evenodd\" fill-opacity=\"1\" stroke=\"none\"/>\n<circle clip-path=\"url(#clip292)\" cx=\"762.744\" cy=\"884.277\" r=\"72\" fill=\"#000000\" fill-rule=\"evenodd\" fill-opacity=\"1\" stroke=\"none\"/>\n<circle clip-path=\"url(#clip292)\" cx=\"2171.91\" cy=\"884.277\" r=\"72\" fill=\"#000000\" fill-rule=\"evenodd\" fill-opacity=\"1\" stroke=\"none\"/>\n<circle clip-path=\"url(#clip292)\" cx=\"762.744\" cy=\"1119.14\" r=\"72\" fill=\"#000000\" fill-rule=\"evenodd\" fill-opacity=\"1\" stroke=\"none\"/>\n<circle clip-path=\"url(#clip292)\" cx=\"997.605\" cy=\"1119.14\" r=\"72\" fill=\"#000000\" fill-rule=\"evenodd\" fill-opacity=\"1\" stroke=\"none\"/>\n<circle clip-path=\"url(#clip292)\" cx=\"527.882\" cy=\"649.415\" r=\"72\" fill=\"#000000\" fill-rule=\"evenodd\" fill-opacity=\"1\" stroke=\"none\"/>\n<circle clip-path=\"url(#clip292)\" cx=\"2171.91\" cy=\"414.554\" r=\"72\" fill=\"#000000\" fill-rule=\"evenodd\" fill-opacity=\"1\" stroke=\"none\"/>\n<circle clip-path=\"url(#clip292)\" cx=\"527.882\" cy=\"414.554\" r=\"72\" fill=\"#ffffff\" fill-rule=\"evenodd\" fill-opacity=\"1\" stroke=\"#000000\" stroke-opacity=\"1\" stroke-width=\"3.2\"/>\n<circle clip-path=\"url(#clip292)\" cx=\"762.744\" cy=\"414.554\" r=\"72\" fill=\"#ffffff\" fill-rule=\"evenodd\" fill-opacity=\"1\" stroke=\"#000000\" stroke-opacity=\"1\" stroke-width=\"3.2\"/>\n<circle clip-path=\"url(#clip292)\" cx=\"1232.47\" cy=\"414.554\" r=\"72\" fill=\"#ffffff\" fill-rule=\"evenodd\" fill-opacity=\"1\" stroke=\"#000000\" stroke-opacity=\"1\" stroke-width=\"3.2\"/>\n<circle clip-path=\"url(#clip292)\" cx=\"1937.05\" cy=\"414.554\" r=\"72\" fill=\"#ffffff\" fill-rule=\"evenodd\" fill-opacity=\"1\" stroke=\"#000000\" stroke-opacity=\"1\" stroke-width=\"3.2\"/>\n<circle clip-path=\"url(#clip292)\" cx=\"997.605\" cy=\"649.415\" r=\"72\" fill=\"#ffffff\" fill-rule=\"evenodd\" fill-opacity=\"1\" stroke=\"#000000\" stroke-opacity=\"1\" stroke-width=\"3.2\"/>\n<circle clip-path=\"url(#clip292)\" cx=\"527.882\" cy=\"1119.14\" r=\"72\" fill=\"#ffffff\" fill-rule=\"evenodd\" fill-opacity=\"1\" stroke=\"#000000\" stroke-opacity=\"1\" stroke-width=\"3.2\"/>\n<circle clip-path=\"url(#clip292)\" cx=\"1232.47\" cy=\"1119.14\" r=\"72\" fill=\"#ffffff\" fill-rule=\"evenodd\" fill-opacity=\"1\" stroke=\"#000000\" stroke-opacity=\"1\" stroke-width=\"3.2\"/>\n<circle clip-path=\"url(#clip292)\" cx=\"1937.05\" cy=\"1119.14\" r=\"72\" fill=\"#ffffff\" fill-rule=\"evenodd\" fill-opacity=\"1\" stroke=\"#000000\" stroke-opacity=\"1\" stroke-width=\"3.2\"/>\n<circle clip-path=\"url(#clip292)\" cx=\"293.021\" cy=\"414.554\" r=\"72\" fill=\"#ffffff\" fill-rule=\"evenodd\" fill-opacity=\"1\" stroke=\"#000000\" stroke-opacity=\"1\" stroke-width=\"3.2\"/>\n<circle clip-path=\"url(#clip292)\" cx=\"2171.91\" cy=\"1119.14\" r=\"72\" fill=\"#ffffff\" fill-rule=\"evenodd\" fill-opacity=\"1\" stroke=\"#000000\" stroke-opacity=\"1\" stroke-width=\"3.2\"/>\n</svg>\n"
     },
     "metadata": {},
     "output_type": "display_data"
    }
   ],
   "source": [
    "function coord_to_index(x, y)\n",
    "    return (x - 1) * 9 + y\n",
    "end\n",
    "\n",
    "function draw_board()\n",
    "    # Initialize an 8x8 board with alternating colors\n",
    "    board = [RGB(0.8, 0.8, 0.8) for _ in 1:10, _ in 1:5]\n",
    "    plot(heatmap(1:10, 1:5, board, c=:grays, axis=false, border=:none, framestyle=:none, aspect_ratio=:equal))\n",
    "    # Add vertical lines\n",
    "    for x in 1:9\n",
    "        plot!([x, x], [1, 5], lw=2, color=:black, linestyle=:solid)\n",
    "    end\n",
    "\n",
    "    # Add horizontal lines\n",
    "    for y in 1:4\n",
    "        plot!([1, 10], [y, y], lw=2, color=:black, linestyle=:solid)\n",
    "    end\n",
    "\n",
    "    # Add border lines\n",
    "    # plot!([0.5, 9.5], [0.5, 0.5], lw=2, color=:black, linestyle=:solid)\n",
    "    plot!([1, 10], [5, 5], lw=2, color=:black, linestyle=:solid)\n",
    "    # plot!([0.5, 0.5], [0.5, 8.5], lw=2, color=:black, linestyle=:solid)\n",
    "    plot!([10, 10], [1, 5], lw=2, color=:black, linestyle=:solid)\n",
    "end\n",
    "\n",
    "\n",
    "function add_circles!(plot, pieces, color)\n",
    "    for p in pieces\n",
    "        circle_color = color == \"white\" ? RGBA(1, 1, 1, 0.8) : RGBA(0, 0, 0, 0.8)\n",
    "        scatter!(plot, [p % 9 == 0 ? 9.5 : p % 9 + 0.5], [div(p - 0.1, 9) + 1.5], markershape=:circle, markersize=20, color=circle_color, legend=false)\n",
    "    end\n",
    "end\n",
    "\n",
    "function draw_puzzle(black, white)\n",
    "    p = draw_board()\n",
    "    add_circles!(p, black, \"black\")\n",
    "    add_circles!(p, white, \"white\")\n",
    "    display(p)\n",
    "end\n",
    "\n"
   ]
  },
  {
   "attachments": {},
   "cell_type": "markdown",
   "metadata": {},
   "source": [
    "### Build group codebook\n",
    "\n",
    "The codebook contains the following matrixes\n",
    "+ all groups ($45 \\times 4$)\n",
    "+ all three in a row ($N_{3iar} \\times 3$)\n",
    "+ all two in a row($N_{2iar} \\times 2$)\n",
    "+ four in a row ($36 \\times 45$)\n",
    "+ three in a row($36 \\times N_{3iar}$)\n",
    "+ two in a row($36 \\times N_{2iar}$)"
   ]
  },
  {
   "cell_type": "code",
   "execution_count": null,
   "metadata": {},
   "outputs": [],
   "source": [
    "\n",
    "all_groups = []\n",
    "for y in 1:9\n",
    "    push!(all_groups, [coord_to_index(1, y) coord_to_index(2, y) coord_to_index(3, y) coord_to_index(4, y)])\n",
    "end\n",
    "for y in 1:6\n",
    "    push!(all_groups, [coord_to_index(1, y) coord_to_index(2, y+1) coord_to_index(3, y+2) coord_to_index(4, y+3)])\n",
    "    push!(all_groups, [coord_to_index(1, y+3) coord_to_index(2, y+2) coord_to_index(3, y+1) coord_to_index(4, y)])\n",
    "    for x in 1:4\n",
    "        push!(all_groups, [coord_to_index(x, y) coord_to_index(x, y+1) coord_to_index(x, y+2) coord_to_index(x, y+3)])\n",
    "    end\n",
    "end\n",
    "all_groups = reshape(vcat(all_groups...), 45, 4)"
   ]
  },
  {
   "cell_type": "code",
   "execution_count": null,
   "metadata": {},
   "outputs": [],
   "source": [
    "all_three_in_a_row = reshape(all_groups[:, [1 2 3; 1 2 4; 1 3 4; 2 3 4]], :, 3)\n",
    "all_three_in_a_row * [10000 100 1]'\n",
    "enc(x::Matrix)::Matrix = x * [10000 100 1]'\n",
    "dec(x::Matrix)::Matrix = [div.(x, 10000) mod.(div.(x, 100),100) mod.(x, 100)]\n",
    "all_three_in_a_row = all_three_in_a_row |> enc |> unique |> hcat |> dec\n",
    "\n",
    "all_two_in_a_row = reshape(all_groups[:, [1 2; 1 3; 1 4; 2 3; 2 4; 3 4]], :, 2)\n",
    "all_two_in_a_row * [100 1]'\n",
    "enc(x::Matrix)::Matrix = x * [100 1]'\n",
    "dec(x::Matrix)::Matrix = [div.(x, 100) mod.(x, 100)]\n",
    "all_two_in_a_row = all_two_in_a_row |> enc |> unique |> hcat |> dec"
   ]
  },
  {
   "cell_type": "code",
   "execution_count": 255,
   "metadata": {},
   "outputs": [
    {
     "data": {
      "text/plain": [
       "36×210 Matrix{Float64}:\n",
       " 1.0  0.0  0.0  0.0  0.0  0.0  0.0  0.0  …  0.0  0.0  0.0  0.0  0.0  0.0  0.0\n",
       " 0.0  1.0  0.0  0.0  0.0  0.0  0.0  0.0     0.0  0.0  0.0  0.0  0.0  0.0  0.0\n",
       " 0.0  0.0  1.0  0.0  0.0  0.0  0.0  0.0     0.0  0.0  0.0  0.0  0.0  0.0  0.0\n",
       " 0.0  0.0  0.0  1.0  0.0  0.0  0.0  0.0     0.0  0.0  0.0  0.0  0.0  0.0  0.0\n",
       " 0.0  0.0  0.0  0.0  1.0  0.0  0.0  0.0     0.0  0.0  0.0  0.0  0.0  0.0  0.0\n",
       " 0.0  0.0  0.0  0.0  0.0  1.0  0.0  0.0  …  0.0  0.0  0.0  0.0  0.0  0.0  0.0\n",
       " 0.0  0.0  0.0  0.0  0.0  0.0  1.0  0.0     0.0  0.0  0.0  0.0  0.0  0.0  0.0\n",
       " 0.0  0.0  0.0  0.0  0.0  0.0  0.0  1.0     0.0  0.0  0.0  1.0  0.0  0.0  0.0\n",
       " 0.0  0.0  0.0  0.0  0.0  0.0  0.0  0.0     0.0  0.0  0.0  1.0  0.0  0.0  0.0\n",
       " 1.0  0.0  0.0  0.0  0.0  0.0  0.0  0.0     0.0  0.0  0.0  0.0  0.0  0.0  0.0\n",
       " 0.0  1.0  0.0  0.0  0.0  0.0  0.0  0.0  …  0.0  0.0  0.0  0.0  0.0  0.0  0.0\n",
       " 0.0  0.0  1.0  0.0  0.0  0.0  0.0  0.0     0.0  0.0  0.0  0.0  0.0  0.0  0.0\n",
       " 0.0  0.0  0.0  1.0  0.0  0.0  0.0  0.0     0.0  0.0  0.0  0.0  0.0  0.0  0.0\n",
       " ⋮                        ⋮              ⋱            ⋮                   \n",
       " 0.0  0.0  0.0  0.0  0.0  0.0  0.0  0.0     0.0  0.0  1.0  0.0  0.0  0.0  0.0\n",
       " 0.0  0.0  0.0  0.0  0.0  0.0  0.0  0.0  …  0.0  1.0  0.0  0.0  0.0  1.0  0.0\n",
       " 0.0  0.0  0.0  0.0  0.0  0.0  0.0  0.0     0.0  0.0  0.0  0.0  0.0  1.0  0.0\n",
       " 0.0  0.0  0.0  0.0  0.0  0.0  0.0  0.0     0.0  0.0  0.0  0.0  0.0  0.0  0.0\n",
       " 0.0  0.0  0.0  0.0  0.0  0.0  0.0  0.0     0.0  0.0  0.0  0.0  0.0  0.0  0.0\n",
       " 0.0  0.0  0.0  0.0  0.0  0.0  0.0  0.0     0.0  0.0  0.0  0.0  0.0  0.0  0.0\n",
       " 0.0  0.0  0.0  0.0  0.0  0.0  0.0  0.0  …  0.0  0.0  0.0  0.0  0.0  0.0  0.0\n",
       " 0.0  0.0  0.0  0.0  0.0  0.0  0.0  0.0     1.0  0.0  0.0  0.0  0.0  0.0  0.0\n",
       " 0.0  0.0  0.0  0.0  0.0  0.0  0.0  0.0     0.0  0.0  1.0  0.0  0.0  0.0  0.0\n",
       " 0.0  0.0  0.0  0.0  0.0  0.0  0.0  0.0     0.0  0.0  0.0  0.0  0.0  0.0  0.0\n",
       " 0.0  0.0  0.0  0.0  0.0  0.0  0.0  0.0     0.0  0.0  0.0  0.0  0.0  0.0  1.0\n",
       " 0.0  0.0  0.0  0.0  0.0  0.0  0.0  0.0  …  0.0  1.0  0.0  0.0  0.0  0.0  1.0"
      ]
     },
     "execution_count": 255,
     "metadata": {},
     "output_type": "execute_result"
    }
   ],
   "source": [
    "function square_to_group(all_patterns)\n",
    "    book = zeros(36, size(all_patterns)[1])\n",
    "    for i in 1: size(all_patterns)[1]\n",
    "        book[all_patterns[i, :], i] .= 1\n",
    "    end\n",
    "    return book\n",
    "end\n",
    "four_in_a_row = square_to_group(all_groups)\n",
    "three_in_a_row = square_to_group(all_three_in_a_row)\n",
    "two_in_a_row = square_to_group(all_two_in_a_row)"
   ]
  },
  {
   "attachments": {},
   "cell_type": "markdown",
   "metadata": {},
   "source": [
    "### State Matrix and Transformation Matrix\n",
    "\n",
    "+ group state ($45 \\times 10$)\n",
    "    - one hot\n",
    "+ transmatrix ($10 \\times 10$)\n",
    "    - $X_{ij}: i \\rightarrow j$\n",
    "\n",
    "Group State\n",
    "1. Empty\n",
    "2. Mixed\n",
    "3. Black-1\n",
    "4. Black-2\n",
    "5. Black-3\n",
    "6. Black-4\n",
    "7. White-1\n",
    "8. White-2\n",
    "9. White-3\n",
    "10. White-4"
   ]
  },
  {
   "cell_type": "code",
   "execution_count": 294,
   "metadata": {},
   "outputs": [
    {
     "data": {
      "text/plain": [
       "update (generic function with 4 methods)"
      ]
     },
     "execution_count": 294,
     "metadata": {},
     "output_type": "execute_result"
    }
   ],
   "source": [
    "BlackTransMatrix = zeros(10, 10)\n",
    "BlackTransMatrix[1, 3] = 1\n",
    "BlackTransMatrix[2, 2] = 1\n",
    "BlackTransMatrix[3, 4] = 1\n",
    "BlackTransMatrix[4, 5] = 1\n",
    "BlackTransMatrix[5, 6] = 1\n",
    "BlackTransMatrix[6, 6] = 1\n",
    "BlackTransMatrix[7, 2] = 1\n",
    "BlackTransMatrix[8, 2] = 1\n",
    "BlackTransMatrix[9, 2] = 1\n",
    "BlackTransMatrix[10, 10] = 1\n",
    "\n",
    "WhiteTransMatrix = zeros(10, 10)\n",
    "WhiteTransMatrix[1, 7] = 1\n",
    "WhiteTransMatrix[2, 2] = 1\n",
    "WhiteTransMatrix[3, 2] = 1\n",
    "WhiteTransMatrix[4, 2] = 1\n",
    "WhiteTransMatrix[5, 2] = 1\n",
    "WhiteTransMatrix[6, 6] = 1\n",
    "WhiteTransMatrix[7, 8] = 1\n",
    "WhiteTransMatrix[8, 9] = 1\n",
    "WhiteTransMatrix[9, 10] = 1\n",
    "WhiteTransMatrix[10, 10] = 1\n",
    "\n",
    "function update(states::Matrix, square, color)\n",
    "    matrix = color == \"black\" ? BlackTransMatrix : WhiteTransMatrix\n",
    "    states[four_in_a_row[square, :] .== 1, :] *= matrix\n",
    "end"
   ]
  },
  {
   "cell_type": "code",
   "execution_count": 507,
   "metadata": {},
   "outputs": [
    {
     "data": {
      "text/plain": [
       "init_state (generic function with 1 method)"
      ]
     },
     "execution_count": 507,
     "metadata": {},
     "output_type": "execute_result"
    }
   ],
   "source": [
    "function init_state(black, white)\n",
    "    black = map(x -> x + 1, black)\n",
    "    white = map(x -> x + 1, white)\n",
    "    draw_puzzle(black, white)\n",
    "    group_state = zeros(45, 10)\n",
    "    group_state[:, 1] .= 1\n",
    "\n",
    "    for b in black\n",
    "        update(group_state, b, \"black\")\n",
    "    end\n",
    "    for w in white\n",
    "        update(group_state, w, \"white\")\n",
    "    end\n",
    "\n",
    "    empty_squares = filter(x -> !((x in black) | (x in white)), 1:36)\n",
    "    return group_state, empty_squares\n",
    "end\n"
   ]
  },
  {
   "attachments": {},
   "cell_type": "markdown",
   "metadata": {},
   "source": [
    "### Strategy\n",
    "\n",
    "+ My color $M_3 \\rightarrow M_4$\n",
    "+ Prevent opponent color from $O_3 \\rightarrow O_4$\n",
    "+ In player's turn, if the number of remaining steps equals to\n",
    "    - $3 \\rightarrow M_2$\n",
    "    - $5 \\rightarrow M_2, M_1$\n",
    "    - $\\geq 5 \\rightarrow M_2, M_1, E, O_1, O_2$\n",
    "+ In opponent's turn\n",
    "    - $O_2, M_2, M_1, O_1, E$\n"
   ]
  },
  {
   "cell_type": "code",
   "execution_count": 508,
   "metadata": {},
   "outputs": [
    {
     "data": {
      "text/plain": [
       "get_candidates (generic function with 1 method)"
      ]
     },
     "execution_count": 508,
     "metadata": {},
     "output_type": "execute_result"
    }
   ],
   "source": [
    "function get_candidates(turn_color, empty_squares, group_state, remain_steps, is_player)\n",
    "    oppo_color = turn_color == \"black\" ? \"white\" : \"black\"\n",
    "\n",
    "    turn_3iar = all_groups[group_state[:, turn_color == \"black\" ? 5 : 9] .== 1, :]\n",
    "    turn_3iar = intersect(unique(turn_3iar), empty_squares)\n",
    "    if length(turn_3iar) > 0\n",
    "        return turn_3iar, \"Forced Win\"\n",
    "    end\n",
    "\n",
    "    oppo_3iar = all_groups[group_state[:, oppo_color == \"black\" ? 5 : 9] .== 1, :]\n",
    "    oppo_3iar = intersect(unique(oppo_3iar), empty_squares)\n",
    "    if length(oppo_3iar) > 0\n",
    "        return oppo_3iar, \"Defense\"\n",
    "    end\n",
    "    if is_player\n",
    "        if remain_steps <= 3\n",
    "            cand = all_groups[group_state[:, turn_color == \"black\" ? 4 : 8] .== 1, :]\n",
    "            cand = intersect(unique(cand), empty_squares)\n",
    "            return cand, \"Other\"\n",
    "        elseif remain_steps <= 5\n",
    "            cand_2iar = all_groups[group_state[:, turn_color == \"black\" ? 4 : 8] .== 1, :]\n",
    "            cand_2iar = intersect(unique(cand_2iar), empty_squares)\n",
    "            cand_1iar = all_groups[group_state[:, turn_color == \"black\" ? 3 : 7] .== 1, :]\n",
    "            cand_1iar = intersect(unique(cand_1iar), empty_squares)\n",
    "            return union(cand_2iar, cand_1iar), \"Other\"\n",
    "        else\n",
    "            cand_m2 = all_groups[group_state[:, turn_color == \"black\" ? 4 : 8] .== 1, :]\n",
    "            cand_m2 = intersect(unique(cand_m2), empty_squares)\n",
    "            cand_m1 = all_groups[group_state[:, turn_color == \"black\" ? 3 : 7] .== 1, :]\n",
    "            cand_m1 = intersect(unique(cand_m1), empty_squares)\n",
    "            cand_o2 = all_groups[group_state[:, turn_color == \"black\" ? 8 : 4] .== 1, :]\n",
    "            cand_o2 = intersect(unique(cand_o2), empty_squares)\n",
    "            cand_o1 = all_groups[group_state[:, turn_color == \"black\" ? 7 : 3] .== 1, :]\n",
    "            cand_o1 = intersect(unique(cand_o1), empty_squares)\n",
    "            cand_e = all_groups[group_state[:, 1] .== 1, :]\n",
    "            cand_e = intersect(unique(cand_e), empty_squares)\n",
    "            return union(cand_m2, cand_m1, cand_e, cand_o1, cand_o2), \"Other\"\n",
    "        end\n",
    "    else\n",
    "        cand_m2 = all_groups[group_state[:, turn_color == \"black\" ? 4 : 8] .== 1, :]\n",
    "        cand_m2 = intersect(unique(cand_m2), empty_squares)\n",
    "        cand_m1 = all_groups[group_state[:, turn_color == \"black\" ? 3 : 7] .== 1, :]\n",
    "        cand_m1 = intersect(unique(cand_m1), empty_squares)\n",
    "        cand_o2 = all_groups[group_state[:, turn_color == \"black\" ? 8 : 4] .== 1, :]\n",
    "        cand_o2 = intersect(unique(cand_o2), empty_squares)\n",
    "        cand_o1 = all_groups[group_state[:, turn_color == \"black\" ? 7 : 3] .== 1, :]\n",
    "        cand_o1 = intersect(unique(cand_o1), empty_squares)\n",
    "        cand_e = all_groups[group_state[:, 1] .== 1, :]\n",
    "        cand_e = intersect(unique(cand_e), empty_squares)\n",
    "        return union(cand_o2, cand_m2, cand_m1, cand_o1, cand_e), \"Other\"\n",
    "    end\n",
    "end"
   ]
  },
  {
   "cell_type": "code",
   "execution_count": 509,
   "metadata": {},
   "outputs": [
    {
     "data": {
      "text/plain": [
       "step (generic function with 1 method)"
      ]
     },
     "execution_count": 509,
     "metadata": {},
     "output_type": "execute_result"
    }
   ],
   "source": [
    "function step(group_states, empty_squares, path, turn_color, is_player, depth, max_depth)\n",
    "    num_node = 0\n",
    "    if depth >= max_depth\n",
    "        return [], [], num_node\n",
    "    end\n",
    "    opponent_color = turn_color == \"black\" ? \"white\" : \"black\"\n",
    "    turn_cand, cat = get_candidates(turn_color, empty_squares, group_states, max_depth - depth - !is_player, is_player)\n",
    "    all_forced_win_paths = []\n",
    "    forced_win_cand = []\n",
    "    for piece in turn_cand\n",
    "        if (depth == max_depth - 1) & (cat != \"Forced Win\")\n",
    "            continue\n",
    "        end\n",
    "        cp_empty = []\n",
    "        for p in empty_squares\n",
    "            if p != piece\n",
    "                push!(cp_empty, p)\n",
    "            end\n",
    "        end\n",
    "        cp_states = copy(group_states)\n",
    "        update(cp_states, piece, turn_color)\n",
    "        cp_path = copy(path)\n",
    "        push!(cp_path, string(turn_color, \"-\", piece - 1))\n",
    "        num_node += 1\n",
    "        if is_player\n",
    "            if cat == \"Forced Win\"\n",
    "                push!(forced_win_cand, piece - 1)\n",
    "                push!(all_forced_win_paths, cp_path)\n",
    "                num_node += 1\n",
    "            else\n",
    "                next_fw_cand, next_all_fw_paths, n = step(cp_states, cp_empty, cp_path, opponent_color, false, depth+1, max_depth)\n",
    "                num_node += n\n",
    "                if length(next_fw_cand) > 0\n",
    "                    push!(forced_win_cand, piece - 1)\n",
    "                    append!(all_forced_win_paths, next_all_fw_paths)\n",
    "                end\n",
    "            end\n",
    "        else\n",
    "            if cat == \"Forced Win\"\n",
    "                num_node += 1\n",
    "                break\n",
    "            end\n",
    "            next_fw_cand, next_all_fw_paths, n = step(cp_states, cp_empty, cp_path, opponent_color, true, depth+1, max_depth)\n",
    "            num_node += n\n",
    "            if length(next_fw_cand) > 0\n",
    "                push!(forced_win_cand, piece - 1)\n",
    "                append!(all_forced_win_paths, next_all_fw_paths)\n",
    "            else\n",
    "                return [], [], num_node\n",
    "            end\n",
    "        end\n",
    "    end\n",
    "    return forced_win_cand, all_forced_win_paths, num_node\n",
    "end"
   ]
  },
  {
   "cell_type": "code",
   "execution_count": 524,
   "metadata": {},
   "outputs": [
    {
     "data": {
      "text/plain": [
       "search (generic function with 1 method)"
      ]
     },
     "execution_count": 524,
     "metadata": {},
     "output_type": "execute_result"
    }
   ],
   "source": [
    "function search(black, white, max_depth)\n",
    "    @time begin\n",
    "        player_color = length(black) == length(white) ? \"black\" : \"white\"\n",
    "        group_states, empty_squares = init_state(black, white)\n",
    "        forced_win_cand, all_forced_win_paths, num_node = step(group_states, empty_squares, [], player_color, true, 1, max_depth)\n",
    "    end\n",
    "    println(num_node)\n",
    "    println(forced_win_cand)\n",
    "    for path in all_forced_win_paths\n",
    "        println(path)\n",
    "    end\n",
    "end\n"
   ]
  },
  {
   "cell_type": "code",
   "execution_count": 525,
   "metadata": {},
   "outputs": [
    {
     "data": {
      "image/svg+xml": "<?xml version=\"1.0\" encoding=\"utf-8\"?>\n<svg xmlns=\"http://www.w3.org/2000/svg\" xmlns:xlink=\"http://www.w3.org/1999/xlink\" width=\"600\" height=\"400\" viewBox=\"0 0 2400 1600\">\n<defs>\n  <clipPath id=\"clip890\">\n    <rect x=\"0\" y=\"0\" width=\"2400\" height=\"1600\"/>\n  </clipPath>\n</defs>\n<path clip-path=\"url(#clip890)\" d=\"M0 1600 L2400 1600 L2400 0 L0 0  Z\" fill=\"#ffffff\" fill-rule=\"evenodd\" fill-opacity=\"1\"/>\n<defs>\n  <clipPath id=\"clip891\">\n    <rect x=\"480\" y=\"0\" width=\"1681\" height=\"1600\"/>\n  </clipPath>\n</defs>\n<path clip-path=\"url(#clip890)\" d=\"M112.177 1486.45 L2352.76 1486.45 L2352.76 47.2441 L112.177 47.2441  Z\" fill=\"#ffffff\" fill-rule=\"evenodd\" fill-opacity=\"1\"/>\n<defs>\n  <clipPath id=\"clip892\">\n    <rect x=\"112\" y=\"47\" width=\"2242\" height=\"1440\"/>\n  </clipPath>\n</defs>\n<g clip-path=\"url(#clip892)\">\n<image width=\"2114\" height=\"939\" xlink:href=\"data:image/png;base64,\niVBORw0KGgoAAAANSUhEUgAACEIAAAOrCAYAAABZNLF6AAAgAElEQVR4nOzaAQkAMRDAsN/7l3ae\nNhODQUkUVEDXzOwPAAAAAAAAACDgfx0AAAAAAAAAAHCLEQIAAAAAAAAAyDBCAAAAAAAAAAAZRggA\nAAAAAAAAIMMIAQAAAAAAAABkGCEAAAAAAAAAgAwjBAAAAAAAAACQYYQAAAAAAAAAADKMEAAAAAAA\nAABAhhECAAAAAAAAAMgwQgAAAAAAAAAAGUYIAAAAAAAAACDDCAEAAAAAAAAAZBghAAAAAAAAAIAM\nIwQAAAAAAAAAkGGEAAAAAAAAAAAyjBAAAAAAAAAAQIYRAgAAAAAAAADIMEIAAAAAAAAAABlGCAAA\nAAAAAAAgwwgBAAAAAAAAAGQYIQAAAAAAAACADCMEAAAAAAAAAJBhhAAAAAAAAAAAMowQAAAAAAAA\nAECGEQIAAAAAAAAAyDBCAAAAAAAAAAAZRggAAAAAAAAAIMMIAQAAAAAAAABkGCEAAAAAAAAAgAwj\nBAAAAAAAAACQYYQAAAAAAAAAADKMEAAAAAAAAABAhhECAAAAAAAAAMgwQgAAAAAAAAAAGUYIAAAA\nAAAAACDDCAEAAAAAAAAAZBghAAAAAAAAAIAMIwQAAAAAAAAAkGGEAAAAAAAAAAAyjBAAAAAAAAAA\nQIYRAgAAAAAAAADIMEIAAAAAAAAAABlGCAAAAAAAAAAgwwgBAAAAAAAAAGQYIQAAAAAAAACADCME\nAAAAAAAAAJBhhAAAAAAAAAAAMowQAAAAAAAAAECGEQIAAAAAAAAAyDBCAAAAAAAAAAAZRggAAAAA\nAAAAIMMIAQAAAAAAAABkGCEAAAAAAAAAgAwjBAAAAAAAAACQYYQAAAAAAAAAADKMEAAAAAAAAABA\nhhECAAAAAAAAAMgwQgAAAAAAAAAAGUYIAAAAAAAAACDDCAEAAAAAAAAAZBghAAAAAAAAAIAMIwQA\nAAAAAAAAkGGEAAAAAAAAAAAyjBAAAAAAAAAAQIYRAgAAAAAAAADIMEIAAAAAAAAAABlGCAAAAAAA\nAAAgwwgBAAAAAAAAAGQYIQAAAAAAAACADCMEAAAAAAAAAJBhhAAAAAAAAAAAMowQAAAAAAAAAECG\nEQIAAAAAAAAAyDBCAAAAAAAAAAAZRggAAAAAAAAAIMMIAQAAAAAAAABkGCEAAAAAAAAAgAwjBAAA\nAAAAAACQYYQAAAAAAAAAADKMEAAAAAAAAABAhhECAAAAAAAAAMgwQgAAAAAAAAAAGUYIAAAAAAAA\nACDDCAEAAAAAAAAAZBghAAAAAAAAAIAMIwQAAAAAAAAAkGGEAAAAAAAAAAAyjBAAAAAAAAAAQIYR\nAgAAAAAAAADIMEIAAAAAAAAAABlGCAAAAAAAAAAgwwgBAAAAAAAAAGQYIQAAAAAAAACADCMEAAAA\nAAAAAJBhhAAAAAAAAAAAMowQAAAAAAAAAECGEQIAAAAAAAAAyDBCAAAAAAAAAAAZRggAAAAAAAAA\nIMMIAQAAAAAAAABkGCEAAAAAAAAAgAwjBAAAAAAAAACQYYQAAAAAAAAAADKMEAAAAAAAAABAhhEC\nAAAAAAAAAMgwQgAAAAAAAAAAGUYIAAAAAAAAACDDCAEAAAAAAAAAZBghAAAAAAAAAIAMIwQAAAAA\nAAAAkGGEAAAAAAAAAAAyjBAAAAAAAAAAQIYRAgAAAAAAAADIMEIAAAAAAAAAABlGCAAAAAAAAAAg\nwwgBAAAAAAAAAGQYIQAAAAAAAACADCMEAAAAAAAAAJBhhAAAAAAAAAAAMowQAAAAAAAAAECGEQIA\nAAAAAAAAyDBCAAAAAAAAAAAZRggAAAAAAAAAIMMIAQAAAAAAAABkGCEAAAAAAAAAgAwjBAAAAAAA\nAACQYYQAAAAAAAAAADKMEAAAAAAAAABAhhECAAAAAAAAAMgwQgAAAAAAAAAAGUYIAAAAAAAAACDD\nCAEAAAAAAAAAZBghAAAAAAAAAIAMIwQAAAAAAAAAkGGEAAAAAAAAAAAyjBAAAAAAAAAAQIYRAgAA\nAAAAAADIMEIAAAAAAAAAABlGCAAAAAAAAAAgwwgBAAAAAAAAAGQYIQAAAAAAAACADCMEAAAAAAAA\nAJBhhAAAAAAAAAAAMowQAAAAAAAAAECGEQIAAAAAAAAAyDBCAAAAAAAAAAAZRggAAAAAAAAAIMMI\nAQAAAAAAAABkGCEAAAAAAAAAgAwjBAAAAAAAAACQYYQAAAAAAAAAADKMEAAAAAAAAABAhhECAAAA\nAAAAAMgwQgAAAAAAAAAAGUYIAAAAAAAAACDDCAEAAAAAAAAAZBghAAAAAAAAAIAMIwQAAAAAAAAA\nkGGEAAAAAAAAAAAyjBAAAAAAAAAAQIYRAgAAAAAAAADIMEIAAAAAAAAAABlGCAAAAAAAAAAgwwgB\nAAAAAAAAAGQYIQAAAAAAAACADCMEAAAAAAAAAJBhhAAAAAAAAAAAMowQAAAAAAAAAECGEQIAAAAA\nAAAAyDBCAAAAAAAAAAAZRggAAAAAAAAAIMMIAQAAAAAAAABkGCEAAAAAAAAAgAwjBAAAAAAAAACQ\nYYQAAAAAAAAAADKMEAAAAAAAAABAhhECAAAAAAAAAMgwQgAAAAAAAAAAGUYIAAAAAAAAACDDCAEA\nAAAAAAAAZBghAAAAAAAAAIAMIwQAAAAAAAAAkGGEAAAAAAAAAAAyjBAAAAAAAAAAQIYRAgAAAAAA\nAADIMEIAAAAAAAAAABlGCAAAAAAAAAAgwwgBAAAAAAAAAGQYIQAAAAAAAACADCMEAAAAAAAAAJBh\nhAAAAAAAAAAAMowQAAAAAAAAAECGEQIAAAAAAAAAyDBCAAAAAAAAAAAZRggAAAAAAAAAIMMIAQAA\nAAAAAABkGCEAAAAAAAAAgAwjBAAAAAAAAACQYYQAAAAAAAAAADKMEAAAAAAAAABAhhECAAAAAAAA\nAMgwQgAAAAAAAAAAGUYIAAAAAAAAACDDCAEAAAAAAAAAZBghAAAAAAAAAIAMIwQAAAAAAAAAkGGE\nAAAAAAAAAAAyjBAAAAAAAAAAQIYRAgAAAAAAAADIMEIAAAAAAAAAABlGCAAAAAAAAAAgwwgBAAAA\nAAAAAGQYIQAAAAAAAACADCMEAAAAAAAAAJBhhAAAAAAAAAAAMowQAAAAAAAAAECGEQIAAAAAAAAA\nyDBCAAAAAAAAAAAZRggAAAAAAAAAIMMIAQAAAAAAAABkGCEAAAAAAAAAgAwjBAAAAAAAAACQYYQA\nAAAAAAAAADKMEAAAAAAAAABAhhECAAAAAAAAAMgwQgAAAAAAAAAAGUYIAAAAAAAAACDDCAEAAAAA\nAAAAZBghAAAAAAAAAIAMIwQAAAAAAAAAkGGEAAAAAAAAAAAyjBAAAAAAAAAAQIYRAgAAAAAAAADI\nMEIAAAAAAAAAABlGCAAAAAAAAAAgwwgBAAAAAAAAAGQYIQAAAAAAAACADCMEAAAAAAAAAJBhhAAA\nAAAAAAAAMowQAAAAAAAAAECGEQIAAAAAAAAAyDBCAAAAAAAAAAAZRggAAAAAAAAAIMMIAQAAAAAA\nAABkGCEAAAAAAAAAgAwjBAAAAAAAAACQYYQAAAAAAAAAADKMEAAAAAAAAABAhhECAAAAAAAAAMgw\nQgAAAAAAAAAAGUYIAAAAAAAAACDDCAEAAAAAAAAAZBghAAAAAAAAAIAMIwQAAAAAAAAAkGGEAAAA\nAAAAAAAyjBAAAAAAAAAAQIYRAgAAAAAAAADIMEIAAAAAAAAAABlGCAAAAAAAAAAgwwgBAAAAAAAA\nAGQYIQAAAAAAAACADCMEAAAAAAAAAJBhhAAAAAAAAAAAMowQAAAAAAAAAECGEQIAAAAAAAAAyDBC\nAAAAAAAAAAAZRggAAAAAAAAAIMMIAQAAAAAAAABkGCEAAAAAAAAAgAwjBAAAAAAAAACQYYQAAAAA\nAAAAADKMEAAAAAAAAABAhhECAAAAAAAAAMgwQgAAAAAAAAAAGUYIAAAAAAAAACDDCAEAAAAAAAAA\nZBghAAAAAAAAAIAMIwQAAAAAAAAAkGGEAAAAAAAAAAAyjBAAAAAAAAAAQIYRAgAAAAAAAADIMEIA\nAAAAAAAAABlGCAAAAAAAAAAgwwgBAAAAAAAAAGQYIQAAAAAAAACADCMEAAAAAAAAAJBhhAAAAAAA\nAAAAMowQAAAAAAAAAECGEQIAAAAAAAAAyDBCAAAAAAAAAAAZRggAAAAAAAAAIMMIAQAAAAAAAABk\nGCEAAAAAAAAAgAwjBAAAAAAAAACQYYQAAAAAAAAAADKMEAAAAAAAAABAhhECAAAAAAAAAMgwQgAA\nAAAAAAAAGUYIAAAAAAAAACDDCAEAAAAAAAAAZBghAAAAAAAAAIAMIwQAAAAAAAAAkGGEAAAAAAAA\nAAAyjBAAAAAAAAAAQIYRAgAAAAAAAADIMEIAAAAAAAAAABlGCAAAAAAAAAAgwwgBAAAAAAAAAGQY\nIQAAAAAAAACADCMEAAAAAAAAAJBhhAAAAAAAAAAAMowQAAAAAAAAAECGEQIAAAAAAAAAyDBCAAAA\nAAAAAAAZRggAAAAAAAAAIMMIAQAAAAAAAABkGCEAAAAAAAAAgAwjBAAAAAAAAACQYYQAAAAAAAAA\nADKMEAAAAAAAAABAhhECAAAAAAAAAMgwQgAAAAAAAAAAGUYIAAAAAAAAACDDCAEAAAAAAAAAZBgh\nAAAAAAAAAIAMIwQAAAAAAAAAkGGEAAAAAAAAAAAyjBAAAAAAAAAAQIYRAgAAAAAAAADIMEIAAAAA\nAAAAABlGCAAAAAAAAAAgwwgBAAAAAAAAAGQYIQAAAAAAAACADCMEAAAAAAAAAJBhhAAAAAAAAAAA\nMowQAAAAAAAAAECGEQIAAAAAAAAAyDBCAAAAAAAAAAAZRggAAAAAAAAAIMMIAQAAAAAAAABkGCEA\nAAAAAAAAgAwjBAAAAAAAAACQYYQAAAAAAAAAADKMEAAAAAAAAABAhhECAAAAAAAAAMgwQgAAAAAA\nAAAAGUYIAAAAAAAAACDDCAEAAAAAAAAAZBghAAAAAAAAAIAMIwQAAAAAAAAAkGGEAAAAAAAAAAAy\njBAAAAAAAAAAQIYRAgAAAAAAAADIMEIAAAAAAAAAABlGCAAAAAAAAAAgwwgBAAAAAAAAAGQYIQAA\nAAAAAACADCMEAAAAAAAAAJBhhAAAAAAAAAAAMowQAAAAAAAAAECGEQIAAAAAAAAAyDBCAAAAAAAA\nAAAZRggAAAAAAAAAIMMIAQAAAAAAAABkGCEAAAAAAAAAgAwjBAAAAAAAAACQYYQAAAAAAAAAADKM\nEAAAAAAAAABAhhECAAAAAAAAAMgwQgAAAAAAAAAAGUYIAAAAAAAAACDDCAEAAAAAAAAAZBghAAAA\nAAAAAIAMIwQAAAAAAAAAkGGEAAAAAAAAAAAyjBAAAAAAAAAAQIYRAgAAAAAAAADIMEIAAAAAAAAA\nABlGCAAAAAAAAAAgwwgBAAAAAAAAAGQYIQAAAAAAAACADCMEAAAAAAAAAJBhhAAAAAAAAAAAMowQ\nAAAAAAAAAECGEQIAAAAAAAAAyDBCAAAAAAAAAAAZRggAAAAAAAAAIMMIAQAAAAAAAABkGCEAAAAA\nAAAAgAwjBAAAAAAAAACQYYQAAAAAAAAAADKMEAAAAAAAAABAhhECAAAAAAAAAMgwQgAAAAAAAAAA\nGUYIAAAAAAAAACDDCAEAAAAAAAAAZBghAAAAAAAAAIAMIwQAAAAAAAAAkGGEAAAAAAAAAAAyjBAA\nAAAAAAAAQIYRAgAAAAAAAADIMEIAAAAAAAAAABlGCAAAAAAAAAAgwwgBAAAAAAAAAGQYIQAAAAAA\nAACADCMEAAAAAAAAAJBhhAAAAAAAAAAAMowQAAAAAAAAAECGEQIAAAAAAAAAyDBCAAAAAAAAAAAZ\nRggAAAAAAAAAIMMIAQAAAAAAAABkGCEAAAAAAAAAgAwjBAAAAAAAAACQYYQAAAAAAAAAADKMEAAA\nAAAAAABAhhECAAAAAAAAAMgwQgAAAAAAAAAAGUYIAAAAAAAAACDDCAEAAAAAAAAAZBghAAAAAAAA\nAIAMIwQAAAAAAAAAkGGEAAAAAAAAAAAyjBAAAAAAAAAAQIYRAgAAAAAAAADIMEIAAAAAAAAAABlG\nCAAAAAAAAAAgwwgBAAAAAAAAAGQYIQAAAAAAAACADCMEAAAAAAAAAJBhhAAAAAAAAAAAMowQAAAA\nAAAAAECGEQIAAAAAAAAAyDBCAAAAAAAAAAAZRggAAAAAAAAAIMMIAQAAAAAAAABkGCEAAAAAAAAA\ngAwjBAAAAAAAAACQYYQAAAAAAAAAADKMEAAAAAAAAABAhhECAAAAAAAAAMgwQgAAAAAAAAAAGUYI\nAAAAAAAAACDDCAEAAAAAAAAAZBghAAAAAAAAAIAMIwQAAAAAAAAAkGGEAAAAAAAAAAAyjBAAAAAA\nAAAAQIYRAgAAAAAAAADIMEIAAAAAAAAAABlGCAAAAAAAAAAgwwgBAAAAAAAAAGQYIQAAAAAAAACA\nDCMEAAAAAAAAAJBhhAAAAAAAAAAAMowQAAAAAAAAAECGEQIAAAAAAAAAyDBCAAAAAAAAAAAZRggA\nAAAAAAAAIMMIAQAAAAAAAABkGCEAAAAAAAAAgAwjBAAAAAAAAACQYYQAAAAAAAAAADKMEAAAAAAA\nAABAhhECAAAAAAAAAMgwQgAAAAAAAAAAGUYIAAAAAAAAACDDCAEAAAAAAAAAZBghAAAAAAAAAIAM\nIwQAAAAAAAAAkGGEAAAAAAAAAAAyjBAAAAAAAAAAQIYRAgAAAAAAAADIMEIAAAAAAAAAABlGCAAA\nAAAAAAAgwwgBAAAAAAAAAGQYIQAAAAAAAACADCMEAAAAAAAAAJBhhAAAAAAAAAAAMowQAAAAAAAA\nAECGEQIAAAAAAAAAyDBCAAAAAAAAAAAZRggAAAAAAAAAIMMIAQAAAAAAAABkGCEAAAAAAAAAgAwj\nBAAAAAAAAACQYYQAAAAAAAAAADKMEAAAAAAAAABAhhECAAAAAAAAAMgwQgAAAAAAAAAAGUYIAAAA\nAAAAACDDCAEAAAAAAAAAZBghAAAAAAAAAIAMIwQAAAAAAAAAkGGEAIDTrh3IAAAAAAzyt77HVxwB\nAAAAAACwIUIAAAAAAAAAABsiBAAAAAAAAACwIUIAAAAAAAAAABsiBAAAAAAAAACwIUIAAAAAAAAA\nABsiBAAAAAAAAACwIUIAAAAAAAAAABsiBAAAAAAAAACwIUIAAAAAAAAAABsiBAAAAAAAAACwIUIA\nAAAAAAAAABsiBAAAAAAAAACwIUIAAAAAAAAAABsiBAAAAAAAAACwIUIAAAAAAAAAABsiBAAAAAAA\nAACwIUIAAAAAAAAAABsiBAAAAAAAAACwIUIAAAAAAAAAABsiBAAAAAAAAACwIUIAAAAAAAAAABsi\nBAAAAAAAAACwIUIAAAAAAAAAABsiBAAAAAAAAACwIUIAAAAAAAAAABsiBAAAAAAAAACwIUIAAAAA\nAAAAABsiBAAAAAAAAACwIUIAAAAAAAAAABsiBAAAAAAAAACwIUIAAAAAAAAAABsiBAAAAAAAAACw\nIUIAAAAAAAAAABsiBAAAAAAAAACwIUIAAAAAAAAAABsiBAAAAAAAAACwIUIAAAAAAAAAABsiBAAA\nAAAAAACwIUIAAAAAAAAAABsiBAAAAAAAAACwIUIAAAAAAAAAABsiBAAAAAAAAACwIUIAAAAAAAAA\nABsiBAAAAAAAAACwIUIAAAAAAAAAABsiBAAAAAAAAACwIUIAAAAAAAAAABsiBAAAAAAAAACwIUIA\nAAAAAAAAABsiBAAAAAAAAACwIUIAAAAAAAAAABsiBAAAAAAAAACwIUIAAAAAAAAAABsiBAAAAAAA\nAACwIUIAAAAAAAAAABsiBAAAAAAAAACwIUIAAAAAAAAAABsiBAAAAAAAAACwIUIAAAAAAAAAABsi\nBAAAAAAAAACwIUIAAAAAAAAAABsiBAAAAAAAAACwIUIAAAAAAAAAABsiBAAAAAAAAACwIUIAAAAA\nAAAAABsiBAAAAAAAAACwIUIAAAAAAAAAABsiBAAAAAAAAACwIUIAAAAAAAAAABsiBAAAAAAAAACw\nIUIAAAAAAAAAABsiBAAAAAAAAACwIUIAAAAAAAAAABsiBAAAAAAAAACwIUIAAAAAAAAAABsiBAAA\nAAAAAACwIUIAAAAAAAAAABsiBAAAAAAAAACwIUIAAAAAAAAAABsiBAAAAAAAAACwIUIAAAAAAAAA\nABsiBAAAAAAAAACwIUIAAAAAAAAAABsiBAAAAAAAAACwIUIAAAAAAAAAABsiBAAAAAAAAACwIUIA\nAAAAAAAAABsiBAAAAAAAAACwIUIAAAAAAAAAABsiBAAAAAAAAACwIUIAAAAAAAAAABsiBAAAAAAA\nAACwIUIAAAAAAAAAABsiBAAAAAAAAACwIUIAAAAAAAAAABsiBAAAAAAAAACwIUIAAAAAAAAAABsi\nBAAAAAAAAACwIUIAAAAAAAAAABsiBAAAAAAAAACwIUIAAAAAAAAAABsiBAAAAAAAAACwIUIAAAAA\nAAAAABsiBAAAAAAAAACwIUIAAAAAAAAAABsiBAAAAAAAAACwIUIAAAAAAAAAABsiBAAAAAAAAACw\nIUIAAAAAAAAAABsiBAAAAAAAAACwIUIAAAAAAAAAABsiBAAAAAAAAACwIUIAAAAAAAAAABsiBAAA\nAAAAAACwIUIAAAAAAAAAABsiBAAAAAAAAACwIUIAAAAAAAAAABsiBAAAAAAAAACwIUIAAAAAAAAA\nABsiBAAAAAAAAACwIUIAAAAAAAAAABsiBAAAAAAAAACwIUIAAAAAAAAAABsiBAAAAAAAAACwIUIA\nAAAAAAAAABsiBAAAAAAAAACwIUIAAAAAAAAAABsiBAAAAAAAAACwIUIAAAAAAAAAABsiBAAAAAAA\nAACwIUIAAAAAAAAAABsiBAAAAAAAAACwIUIAAAAAAAAAABsiBAAAAAAAAACwIUIAAAAAAAAAABsi\nBAAAAAAAAACwIUIAAAAAAAAAABsiBAAAAAAAAACwIUIAAAAAAAAAABsiBAAAAAAAAACwIUIAAAAA\nAAAAABsiBAAAAAAAAACwIUIAAAAAAAAAABsiBAAAAAAAAACwIUIAAAAAAAAAABsiBAAAAAAAAACw\nIUIAAAAAAAAAABsiBAAAAAAAAACwIUIAAAAAAAAAABsiBAAAAAAAAACwIUIAAAAAAAAAABsiBAAA\nAAAAAACwIUIAAAAAAAAAABsiBAAAAAAAAACwIUIAAAAAAAAAABsiBAAAAAAAAACwIUIAAAAAAAAA\nABsiBAAAAAAAAACwIUIAAAAAAAAAABsiBAAAAAAAAACwIUIAAAAAAAAAABsiBAAAAAAAAACwIUIA\nAAAAAAAAABsiBAAAAAAAAACwIUIAAAAAAAAAABsiBAAAAAAAAACwIUIAAAAAAAAAABsiBAAAAAAA\nAACwIUIAAAAAAAAAABsiBAAAAAAAAACwIUIAAAAAAAAAABsiBAAAAAAAAACwIUIAAAAAAAAAABsi\nBAAAAAAAAACwIUIAAAAAAAAAABsiBAAAAAAAAACwIUIAAAAAAAAAABsiBAAAAAAAAACwIUIAAAAA\nAAAAABsiBAAAAAAAAACwIUIAAAAAAAAAABsiBAAAAAAAAACwIUIAAAAAAAAAABsiBAAAAAAAAACw\nIUIAAAAAAAAAABsiBAAAAAAAAACwIUIAAAAAAAAAABsiBAAAAAAAAACwIUIAAAAAAAAAABsiBAAA\nAAAAAACwIUIAAAAAAAAAABsiBAAAAAAAAACwIUIAAAAAAAAAABsiBAAAAAAAAACwIUIAAAAAAAAA\nABsiBAAAAAAAAACwIUIAAAAAAAAAABsiBAAAAAAAAACwIUIAAAAAAAAAABsiBAAAAAAAAACwIUIA\nAAAAAAAAABsiBAAAAAAAAACwIUIAAAAAAAAAABsiBAAAAAAAAACwIUIAAAAAAAAAABsiBAAAAAAA\nAACwIUIAAAAAAAAAABsiBAAAAAAAAACwIUIAAAAAAAAAABsiBAAAAAAAAACwIUIAAAAAAAAAABsi\nBAAAAAAAAACwIUIAAAAAAAAAABsiBAAAAAAAAACwIUIAAAAAAAAAABsiBAAAAAAAAACwIUIAAAAA\nAAAAABsiBAAAAAAAAACwIUIAAAAAAAAAABsiBAAAAAAAAACwIUIAAAAAAAAAABsiBAAAAAAAAACw\nIUIAAAAAAAAAABsiBAAAAAAAAACwIUIAAAAAAAAAABsiBAAAAAAAAACwIUIAAAAAAAAAABsiBAAA\nAAAAAACwIUIAAAAAAAAAABsiBAAAAAAAAACwIUIAAAAAAAAAABsiBAAAAAAAAACwIUIAAAAAAAAA\nABsiBAAAAAAAAACwIUIAAAAAAAAAABsiBAAAAAAAAACwIUIAAAAAAAAAABsiBAAAAAAAAACwIUIA\nAAAAAAAAABsiBAAAAAAAAACwIUIAAAAAAAAAABsiBAAAAAAAAACwIUIAAAAAAAAAABsiBAAAAAAA\nAACwIUIAAAAAAAAAABsiBAAAAAAAAACwIUIAAAAAAAAAABsiBAAAAAAAAACwIUIAAAAAAAAAABsi\nBAAAAAAAAACwIUIAAAAAAAAAABsiBAAAAAAAAACwIUIAAAAAAAAAABsiBAAAAAAAAACwIUIAAAAA\nAAAAABsiBAAAAAAAAACwIUIAAAAAAAAAABsiBAAAAAAAAACwIUIAAAAAAAAAABsiBAAAAAAAAACw\nIUIAAAAAAAAAABsiBAAAAAAAAACwIUIAAAAAAAAAABsiBAAAAAAAAACwIUIAAAAAAAAAABsiBAAA\nAAAAAACwIUIAAAAAAAAAABsiBAAAAAAAAACwIUIAAAAAAAAAABsiBAAAAAAAAACwIUIAAAAAAAAA\nABsiBAAAAAAAAACwIUIAAAAAAAAAABsiBElmVQcAAAbxSURBVAAAAAAAAACwIUIAAAAAAAAAABsi\nBAAAAAAAAACwIUIAAAAAAAAAABsiBAAAAAAAAACwIUIAAAAAAAAAABsiBAAAAAAAAACwIUIAAAAA\nAAAAABsiBAAAAAAAAACwIUIAAAAAAAAAABsiBAAAAAAAAACwIUIAAAAAAAAAABsiBAAAAAAAAACw\nIUIAAAAAAAAAABsiBAAAAAAAAACwIUIAAAAAAAAAABsiBAAAAAAAAACwIUIAAAAAAAAAABsiBAAA\nAAAAAACwIUIAAAAAAAAAABsiBAAAAAAAAACwIUIAAAAAAAAAABsiBAAAAAAAAACwIUIAAAAAAAAA\nABsiBAAAAAAAAACwIUIAAAAAAAAAABsiBAAAAAAAAACwIUIAAAAAAAAAABsiBAAAAAAAAACwIUIA\nAAAAAAAAABsiBAAAAAAAAACwIUIAAAAAAAAAABsiBAAAAAAAAACwIUIAAAAAAAAAABsiBAAAAAAA\nAACwIUIAAAAAAAAAABsiBAAAAAAAAACwIUIAAAAAAAAAABsiBAAAAAAAAACwIUIAAAAAAAAAABsi\nBAAAAAAAAACwIUIAAAAAAAAAABsiBAAAAAAAAACwIUIAAAAAAAAAABsiBAAAAAAAAACwIUIAAAAA\nAAAAABsiBAAAAAAAAACwIUIAAAAAAAAAABsiBAAAAAAAAACwIUIAAAAAAAAAABsiBAAAAAAAAACw\nIUIAAAAAAAAAABsiBAAAAAAAAACwIUIAAAAAAAAAABsiBAAAAAAAAACwIUIAAAAAAAAAABsiBAAA\nAAAAAACwIUIAAAAAAAAAABsiBAAAAAAAAACwIUIAAAAAAAAAABsiBAAAAAAAAACwIUIAAAAAAAAA\nABsiBAAAAAAAAACwIUIAAAAAAAAAABsiBAAAAAAAAACwIUIAAAAAAAAAABsiBAAAAAAAAACwIUIA\nAAAAAAAAABsiBAAAAAAAAACwIUIAAAAAAAAAABsiBAAAAAAAAACwIUIAAAAAAAAAABsiBAAAAAAA\nAACwIUIAAAAAAAAAABsiBAAAAAAAAACwIUIAAAAAAAAAABsiBAAAAAAAAACwIUIAAAAAAAAAABsi\nBAAAAAAAAACwIUIAAAAAAAAAABsiBAAAAAAAAACwIUIAAAAAAAAAABsiBAAAAAAAAACwIUIAAAAA\nAAAAABsiBAAAAAAAAACwIUIAAAAAAAAAABsiBAAAAAAAAACwIUIAAAAAAAAAABsiBAAAAAAAAACw\nIUIAAAAAAAAAABsiBAAAAAAAAACwIUIAAAAAAAAAABsiBAAAAAAAAACwIUIAAAAAAAAAABsiBAAA\nAAAAAACwIUIAAAAAAAAAABsiBAAAAAAAAACwIUIAAAAAAAAAABsiBAAAAAAAAACwIUIAAAAAAAAA\nABsiBAAAAAAAAACwIUIAAAAAAAAAABsiBAAAAAAAAACwIUIAAAAAAAAAABsiBAAAAAAAAACwIUIA\nAAAAAAAAABsiBAAAAAAAAACwIUIAAAAAAAAAABsiBAAAAAAAAACwIUIAAAAAAAAAABsiBAAAAAAA\nAACwIUIAAAAAAAAAABsiBAAAAAAAAACwIUIAAAAAAAAAABsiBAAAAAAAAACwIUIAAAAAAAAAABsi\nBAAAAAAAAACwIUIAAAAAAAAAABsiBAAAAAAAAACwIUIAAAAAAAAAABsiBAAAAAAAAACwIUIAAAAA\nAAAAABsiBAAAAAAAAACwIUIAAAAAAAAAABsiBAAAAAAAAACwIUIAAAAAAAAAABsiBAAAAAAAAACw\nIUIAAAAAAAAAABsiBAAAAAAAAACwIUIAAAAAAAAAABsiBAAAAAAAAACwIUIAAAAAAAAAABsiBAAA\nAAAAAACwIUIAAAAAAAAAABsiBAAAAAAAAACwIUIAAAAAAAAAABsiBAAAAAAAAACwIUIAAAAAAAAA\nABsiBAAAAAAAAACwIUIAAAAAAAAAABsiBAAAAAAAAACwIUIAAAAAAAAAABsiBAAAAAAAAACwIUIA\nAAAAAAAAABsiBAAAAAAAAACwIUIAAAAAAAAAABsiBAAAAAAAAACwIUIAAAAAAAAAABsiBAAAAAAA\nAACwIUIAAAAAAAAAABsiBAAAAAAAAACwIUIAAAAAAAAAABsiBAAAAAAAAACwIUIAAAAAAAAAABsi\nBAAAAAAAAACwIUIAAAAAAAAAABsiBAAAAAAAAACwIUIAAAAAAAAAABsiBAAAAAAAAACwIUIAAAAA\nAAAAABsiBAAAAAAAAACwIUIAAAAAAAAAABsiBAAAAAAAAACwIUIAAAAAAAAAABsiBAAAAAAAAACw\nIUIAAAAAAAAAABsiBAAAAAAAAACwIUIAAAAAAAAAABsiBAAAAAAAAACwEcDaCrlJczVZAAAAAElF\nTkSuQmCC\n\" transform=\"translate(176, 297)\"/>\n</g>\n<polyline clip-path=\"url(#clip892)\" style=\"stroke:#000000; stroke-linecap:round; stroke-linejoin:round; stroke-width:8; stroke-opacity:1; fill:none\" points=\"175.59,297.123 175.59,1236.57 \"/>\n<polyline clip-path=\"url(#clip892)\" style=\"stroke:#000000; stroke-linecap:round; stroke-linejoin:round; stroke-width:8; stroke-opacity:1; fill:none\" points=\"410.451,297.123 410.451,1236.57 \"/>\n<polyline clip-path=\"url(#clip892)\" style=\"stroke:#000000; stroke-linecap:round; stroke-linejoin:round; stroke-width:8; stroke-opacity:1; fill:none\" points=\"645.313,297.123 645.313,1236.57 \"/>\n<polyline clip-path=\"url(#clip892)\" style=\"stroke:#000000; stroke-linecap:round; stroke-linejoin:round; stroke-width:8; stroke-opacity:1; fill:none\" points=\"880.174,297.123 880.174,1236.57 \"/>\n<polyline clip-path=\"url(#clip892)\" style=\"stroke:#000000; stroke-linecap:round; stroke-linejoin:round; stroke-width:8; stroke-opacity:1; fill:none\" points=\"1115.04,297.123 1115.04,1236.57 \"/>\n<polyline clip-path=\"url(#clip892)\" style=\"stroke:#000000; stroke-linecap:round; stroke-linejoin:round; stroke-width:8; stroke-opacity:1; fill:none\" points=\"1349.9,297.123 1349.9,1236.57 \"/>\n<polyline clip-path=\"url(#clip892)\" style=\"stroke:#000000; stroke-linecap:round; stroke-linejoin:round; stroke-width:8; stroke-opacity:1; fill:none\" points=\"1584.76,297.123 1584.76,1236.57 \"/>\n<polyline clip-path=\"url(#clip892)\" style=\"stroke:#000000; stroke-linecap:round; stroke-linejoin:round; stroke-width:8; stroke-opacity:1; fill:none\" points=\"1819.62,297.123 1819.62,1236.57 \"/>\n<polyline clip-path=\"url(#clip892)\" style=\"stroke:#000000; stroke-linecap:round; stroke-linejoin:round; stroke-width:8; stroke-opacity:1; fill:none\" points=\"2054.48,297.123 2054.48,1236.57 \"/>\n<polyline clip-path=\"url(#clip892)\" style=\"stroke:#000000; stroke-linecap:round; stroke-linejoin:round; stroke-width:8; stroke-opacity:1; fill:none\" points=\"175.59,297.123 2289.34,297.123 \"/>\n<polyline clip-path=\"url(#clip892)\" style=\"stroke:#000000; stroke-linecap:round; stroke-linejoin:round; stroke-width:8; stroke-opacity:1; fill:none\" points=\"175.59,531.984 2289.34,531.984 \"/>\n<polyline clip-path=\"url(#clip892)\" style=\"stroke:#000000; stroke-linecap:round; stroke-linejoin:round; stroke-width:8; stroke-opacity:1; fill:none\" points=\"175.59,766.846 2289.34,766.846 \"/>\n<polyline clip-path=\"url(#clip892)\" style=\"stroke:#000000; stroke-linecap:round; stroke-linejoin:round; stroke-width:8; stroke-opacity:1; fill:none\" points=\"175.59,1001.71 2289.34,1001.71 \"/>\n<polyline clip-path=\"url(#clip892)\" style=\"stroke:#000000; stroke-linecap:round; stroke-linejoin:round; stroke-width:8; stroke-opacity:1; fill:none\" points=\"175.59,1236.57 2289.34,1236.57 \"/>\n<polyline clip-path=\"url(#clip892)\" style=\"stroke:#000000; stroke-linecap:round; stroke-linejoin:round; stroke-width:8; stroke-opacity:1; fill:none\" points=\"2289.34,297.123 2289.34,1236.57 \"/>\n<circle clip-path=\"url(#clip892)\" cx=\"997.605\" cy=\"649.415\" r=\"72\" fill=\"#000000\" fill-rule=\"evenodd\" fill-opacity=\"1\" stroke=\"none\"/>\n<circle clip-path=\"url(#clip892)\" cx=\"1702.19\" cy=\"884.277\" r=\"72\" fill=\"#000000\" fill-rule=\"evenodd\" fill-opacity=\"1\" stroke=\"none\"/>\n<circle clip-path=\"url(#clip892)\" cx=\"1937.05\" cy=\"884.277\" r=\"72\" fill=\"#000000\" fill-rule=\"evenodd\" fill-opacity=\"1\" stroke=\"none\"/>\n<circle clip-path=\"url(#clip892)\" cx=\"1232.47\" cy=\"1119.14\" r=\"72\" fill=\"#000000\" fill-rule=\"evenodd\" fill-opacity=\"1\" stroke=\"none\"/>\n<circle clip-path=\"url(#clip892)\" cx=\"1702.19\" cy=\"1119.14\" r=\"72\" fill=\"#000000\" fill-rule=\"evenodd\" fill-opacity=\"1\" stroke=\"none\"/>\n<circle clip-path=\"url(#clip892)\" cx=\"2171.91\" cy=\"414.554\" r=\"72\" fill=\"#000000\" fill-rule=\"evenodd\" fill-opacity=\"1\" stroke=\"none\"/>\n<circle clip-path=\"url(#clip892)\" cx=\"762.744\" cy=\"649.415\" r=\"72\" fill=\"#ffffff\" fill-rule=\"evenodd\" fill-opacity=\"1\" stroke=\"#000000\" stroke-opacity=\"1\" stroke-width=\"3.2\"/>\n<circle clip-path=\"url(#clip892)\" cx=\"1232.47\" cy=\"649.415\" r=\"72\" fill=\"#ffffff\" fill-rule=\"evenodd\" fill-opacity=\"1\" stroke=\"#000000\" stroke-opacity=\"1\" stroke-width=\"3.2\"/>\n<circle clip-path=\"url(#clip892)\" cx=\"1467.33\" cy=\"649.415\" r=\"72\" fill=\"#ffffff\" fill-rule=\"evenodd\" fill-opacity=\"1\" stroke=\"#000000\" stroke-opacity=\"1\" stroke-width=\"3.2\"/>\n<circle clip-path=\"url(#clip892)\" cx=\"997.605\" cy=\"884.277\" r=\"72\" fill=\"#ffffff\" fill-rule=\"evenodd\" fill-opacity=\"1\" stroke=\"#000000\" stroke-opacity=\"1\" stroke-width=\"3.2\"/>\n<circle clip-path=\"url(#clip892)\" cx=\"527.882\" cy=\"414.554\" r=\"72\" fill=\"#ffffff\" fill-rule=\"evenodd\" fill-opacity=\"1\" stroke=\"#000000\" stroke-opacity=\"1\" stroke-width=\"3.2\"/>\n</svg>\n"
     },
     "metadata": {},
     "output_type": "display_data"
    },
    {
     "name": "stdout",
     "output_type": "stream",
     "text": [
      "160.812279 seconds (928.15 M allocations: 93.299 GiB, 12.00% gc time, 0.63% compilation time)\n",
      "time\n",
      "8117180\n",
      "Any[29]\n",
      "Any[\"white-29\", \"black-5\", \"white-2\", \"black-20\", \"white-3\", \"black-0\", \"white-4\"]\n",
      "Any[\"white-29\", \"black-5\", \"white-2\", \"black-20\", \"white-3\", \"black-4\", \"white-0\"]\n",
      "Any[\"white-29\", \"black-5\", \"white-20\", \"black-2\", \"white-19\", \"black-18\", \"white-22\"]\n",
      "Any[\"white-29\", \"black-5\", \"white-20\", \"black-2\", \"white-19\", \"black-22\", \"white-18\"]\n",
      "Any[\"white-29\", \"black-5\", \"white-20\", \"black-2\", \"white-22\", \"black-19\", \"white-23\"]\n",
      "Any[\"white-29\", \"black-5\", \"white-20\", \"black-2\", \"white-22\", \"black-23\", \"white-19\"]\n"
     ]
    }
   ],
   "source": [
    "black = [12, 24, 25, 31, 33, 8]  # Square index (0-35)\n",
    "white = [11, 13, 14, 21, 1]  # Square index (0-35)\n",
    "max_depth = 6 * 2  # win in 6\n",
    "search(black, white, max_depth)"
   ]
  }
 ],
 "metadata": {
  "kernelspec": {
   "display_name": "Julia 1.6.7",
   "language": "julia",
   "name": "julia-1.6"
  },
  "language_info": {
   "file_extension": ".jl",
   "mimetype": "application/julia",
   "name": "julia",
   "version": "1.6.7"
  },
  "orig_nbformat": 4
 },
 "nbformat": 4,
 "nbformat_minor": 2
}
